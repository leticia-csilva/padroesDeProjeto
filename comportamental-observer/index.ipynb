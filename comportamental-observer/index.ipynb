{
 "cells": [
  {
   "cell_type": "markdown",
   "metadata": {},
   "source": [
    "## Descrição do Padrão Observer\n",
    "\n",
    "O padrão Observer é um padrão comportamental que define uma dependência um-para-muitos entre objetos, de forma que quando um objeto muda de estado, todos os seus dependentes são notificados automaticamente.\n",
    "\n",
    "## Exemplo de Implementação do Padrão\n",
    "\n",
    "Um sistema de notificações que envia atualizações aos usuários inscritos quando há mudanças em um tópico."
   ]
  },
  {
   "cell_type": "code",
   "execution_count": null,
   "metadata": {},
   "outputs": [],
   "source": [
    "# Subject: Define a interface para adicionar/remover observers\n",
    "class Subject:\n",
    "    def __init__(self):\n",
    "        self._observers = []\n",
    "\n",
    "    def attach(self, observer):\n",
    "        self._observers.append(observer)\n",
    "\n",
    "    def detach(self, observer):\n",
    "        self._observers.remove(observer)\n",
    "\n",
    "    def notify(self):\n",
    "        for observer in self._observers:\n",
    "            observer.update(self)\n",
    "\n",
    "# ConcreteSubject: Armazena o estado e notifica observers sobre mudanças\n",
    "class NewsTopic(Subject):\n",
    "    def __init__(self):\n",
    "        super().__init__()\n",
    "        self._state = None\n",
    "\n",
    "    @property\n",
    "    def state(self):\n",
    "        return self._state\n",
    "\n",
    "    @state.setter\n",
    "    def state(self, value):\n",
    "        self._state = value\n",
    "        self.notify()\n",
    "\n",
    "# Observer: Define a interface para ser notificado\n",
    "class Observer:\n",
    "    def update(self, subject):\n",
    "        pass\n",
    "\n",
    "# ConcreteObserver: Implementa a interface Observer\n",
    "class User(Observer):\n",
    "    def __init__(self, name):\n",
    "        self.name = name\n",
    "\n",
    "    def update(self, subject):\n",
    "        print(f'{self.name} recebeu a atualização: {subject.state}')\n",
    "\n",
    "# Exemplo de uso\n",
    "topic = NewsTopic()\n",
    "user1 = User(\"Alice\")\n",
    "user2 = User(\"Bob\")\n",
    "\n",
    "topic.attach(user1)\n",
    "topic.attach(user2)\n",
    "\n",
    "topic.state = \"Nova notícia publicada!\"  # Notifica os observadores\n",
    "topic.state = \"Mais uma atualização!\"  # Notifica os observadores novamente\n"
   ]
  }
 ],
 "metadata": {
  "kernelspec": {
   "display_name": "Python 3",
   "language": "python",
   "name": "python3"
  },
  "language_info": {
   "name": "python",
   "version": "3.9"
  }
 },
 "nbformat": 4,
 "nbformat_minor": 2
}
