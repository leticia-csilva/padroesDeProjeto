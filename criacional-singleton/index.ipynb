{
    "cells": [
     {
      "cell_type": "markdown",
      "metadata": {},
      "source": [
       "## Descrição do Padrão Singleton\n",
       "\n",
       "O padrão Singleton garante que uma classe tenha apenas uma instância e fornece um ponto de acesso global a ela.\n",
       "\n",
       "## Exemplo de Implementação do Padrão\n",
       "\n",
       "Um gerenciador de configuração que centraliza o acesso às configurações da aplicação."
      ]
     },
     {
      "cell_type": "code",
      "execution_count": null,
      "metadata": {},
      "outputs": [],
      "source": [
       "class SingletonMeta(type):\n",
       "    _instances = {}\n",
       "\n",
       "    def __call__(cls, *args, **kwargs):\n",
       "        if cls not in cls._instances:\n",
       "            instance = super().__call__(*args, **kwargs)\n",
       "            cls._instances[cls] = instance\n",
       "        return cls._instances[cls]\n",
       "\n",
       "class ConfigurationManager(metaclass=SingletonMeta):\n",
       "    def __init__(self):\n",
       "        self.settings = {}\n",
       "\n",
       "    def set(self, key, value):\n",
       "        self.settings[key] = value\n",
       "\n",
       "    def get(self, key):\n",
       "        return self.settings.get(key)\n",
       "\n",
       "# Exemplo de uso\n",
       "config1 = ConfigurationManager()\n",
       "config2 = ConfigurationManager()\n",
       "\n",
       "config1.set(\"theme\", \"dark\")\n",
       "print(config2.get(\"theme\"))  # Saída: dark\n",
       "print(config1 is config2)  # Saída: True\n"
      ]
     }
    ],
    "metadata": {
     "kernelspec": {
      "display_name": "Python 3",
      "language": "python",
      "name": "python3"
     },
     "language_info": {
      "name": "python",
      "version": "3.9"
     }
    },
    "nbformat": 4,
    "nbformat_minor": 2
   }
   