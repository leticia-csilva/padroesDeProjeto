{
    "cells": [
     {
      "cell_type": "markdown",
      "metadata": {},
      "source": [
       "## Descrição do Padrão Composite\n",
       "\n",
       "O padrão Composite permite que você componha objetos em estruturas de árvore e trabalhe com esses objetos como se fossem individuais ou coleções.\n",
       "\n",
       "## Exemplo de Implementação do Padrão\n",
       "\n",
       "Um sistema de organização de arquivos que trata arquivos e pastas de forma uniforme."
      ]
     },
     {
      "cell_type": "code",
      "execution_count": null,
      "metadata": {},
      "outputs": [],
      "source": [
       "# Component: Define a interface para objetos na composição\n",
       "class FileSystemComponent:\n",
       "    def show(self):\n",
       "        pass\n",
       "\n",
       "# Leaf: Representa objetos individuais (Arquivos)\n",
       "class File(FileSystemComponent):\n",
       "    def __init__(self, name):\n",
       "        self.name = name\n",
       "\n",
       "    def show(self):\n",
       "        print(f'Arquivo: {self.name}')\n",
       "\n",
       "# Composite: Representa coleções de objetos (Pastas)\n",
       "class Folder(FileSystemComponent):\n",
       "    def __init__(self, name):\n",
       "        self.name = name\n",
       "        self.children = []\n",
       "\n",
       "    def add(self, component):\n",
       "        self.children.append(component)\n",
       "\n",
       "    def remove(self, component):\n",
       "        self.children.remove(component)\n",
       "\n",
       "    def show(self):\n",
       "        print(f'Pasta: {self.name}')\n",
       "        for child in self.children:\n",
       "            child.show()\n",
       "\n",
       "# Exemplo de uso\n",
       "root = Folder(\"Raiz\")\n",
       "folder1 = Folder(\"Documentos\")\n",
       "file1 = File(\"arquivo1.txt\")\n",
       "file2 = File(\"arquivo2.txt\")\n",
       "\n",
       "folder1.add(file1)\n",
       "root.add(folder1)\n",
       "root.add(file2)\n",
       "\n",
       "root.show()\n"
      ]
     }
    ],
    "metadata": {
     "kernelspec": {
      "display_name": "Python 3",
      "language": "python",
      "name": "python3"
     },
     "language_info": {
      "name": "python",
      "version": "3.9"
     }
    },
    "nbformat": 4,
    "nbformat_minor": 2
   }
   